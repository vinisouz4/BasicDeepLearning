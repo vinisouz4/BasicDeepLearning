{
  "nbformat": 4,
  "nbformat_minor": 0,
  "metadata": {
    "colab": {
      "provenance": [],
      "authorship_tag": "ABX9TyML9GjZb15Y541Vv6dKKxcP",
      "include_colab_link": true
    },
    "kernelspec": {
      "name": "python3",
      "display_name": "Python 3"
    },
    "language_info": {
      "name": "python"
    }
  },
  "cells": [
    {
      "cell_type": "markdown",
      "metadata": {
        "id": "view-in-github",
        "colab_type": "text"
      },
      "source": [
        "<a href=\"https://colab.research.google.com/github/vinisouz4/BasicDeepLearning/blob/main/Untitled9.ipynb\" target=\"_parent\"><img src=\"https://colab.research.google.com/assets/colab-badge.svg\" alt=\"Open In Colab\"/></a>"
      ]
    },
    {
      "cell_type": "markdown",
      "source": [
        "# Rede Neural Python\n",
        "\n",
        "\n",
        "## Importação das tabelas"
      ],
      "metadata": {
        "id": "hUjNEEKYfNhr"
      }
    },
    {
      "cell_type": "code",
      "execution_count": 2,
      "metadata": {
        "id": "YAPHj_5berBA"
      },
      "outputs": [],
      "source": [
        "import numpy as np\n",
        "import torch\n",
        "import torch.nn.functional as F\n",
        "import torchvision\n",
        "from torchvision import transforms\n",
        "from torchvision import datasets, transforms\n",
        "from torch import nn, optim\n",
        "from time import time\n",
        "import matplotlib.pyplot as plt"
      ]
    },
    {
      "cell_type": "code",
      "source": [
        "# Definindo a conversão de imagem para tensor\n",
        "transfrom = transforms.ToTensor()"
      ],
      "metadata": {
        "id": "aNTbMILwfL6R"
      },
      "execution_count": 3,
      "outputs": []
    },
    {
      "cell_type": "code",
      "source": [
        "# Faz o download e carrega a parte de treino do dataset\n",
        "trainset = datasets.MNIST(\n",
        "    \"./MNIST_data/\",\n",
        "    download=True,\n",
        "    train=True,\n",
        "    transform=transfrom\n",
        ")"
      ],
      "metadata": {
        "colab": {
          "base_uri": "https://localhost:8080/"
        },
        "id": "FwB4SuYsgSWF",
        "outputId": "87f39e06-7b46-48d3-c375-f568089b9349"
      },
      "execution_count": 4,
      "outputs": [
        {
          "output_type": "stream",
          "name": "stdout",
          "text": [
            "Downloading http://yann.lecun.com/exdb/mnist/train-images-idx3-ubyte.gz\n",
            "Failed to download (trying next):\n",
            "<urlopen error [Errno 111] Connection refused>\n",
            "\n",
            "Downloading https://ossci-datasets.s3.amazonaws.com/mnist/train-images-idx3-ubyte.gz\n",
            "Downloading https://ossci-datasets.s3.amazonaws.com/mnist/train-images-idx3-ubyte.gz to ./MNIST_data/MNIST/raw/train-images-idx3-ubyte.gz\n"
          ]
        },
        {
          "output_type": "stream",
          "name": "stderr",
          "text": [
            "100%|██████████| 9.91M/9.91M [00:00<00:00, 20.4MB/s]\n"
          ]
        },
        {
          "output_type": "stream",
          "name": "stdout",
          "text": [
            "Extracting ./MNIST_data/MNIST/raw/train-images-idx3-ubyte.gz to ./MNIST_data/MNIST/raw\n",
            "\n",
            "Downloading http://yann.lecun.com/exdb/mnist/train-labels-idx1-ubyte.gz\n",
            "Failed to download (trying next):\n",
            "<urlopen error [Errno 111] Connection refused>\n",
            "\n",
            "Downloading https://ossci-datasets.s3.amazonaws.com/mnist/train-labels-idx1-ubyte.gz\n",
            "Downloading https://ossci-datasets.s3.amazonaws.com/mnist/train-labels-idx1-ubyte.gz to ./MNIST_data/MNIST/raw/train-labels-idx1-ubyte.gz\n"
          ]
        },
        {
          "output_type": "stream",
          "name": "stderr",
          "text": [
            "100%|██████████| 28.9k/28.9k [00:00<00:00, 644kB/s]\n"
          ]
        },
        {
          "output_type": "stream",
          "name": "stdout",
          "text": [
            "Extracting ./MNIST_data/MNIST/raw/train-labels-idx1-ubyte.gz to ./MNIST_data/MNIST/raw\n",
            "\n",
            "Downloading http://yann.lecun.com/exdb/mnist/t10k-images-idx3-ubyte.gz\n",
            "Failed to download (trying next):\n",
            "<urlopen error [Errno 111] Connection refused>\n",
            "\n",
            "Downloading https://ossci-datasets.s3.amazonaws.com/mnist/t10k-images-idx3-ubyte.gz\n",
            "Downloading https://ossci-datasets.s3.amazonaws.com/mnist/t10k-images-idx3-ubyte.gz to ./MNIST_data/MNIST/raw/t10k-images-idx3-ubyte.gz\n"
          ]
        },
        {
          "output_type": "stream",
          "name": "stderr",
          "text": [
            "100%|██████████| 1.65M/1.65M [00:00<00:00, 5.56MB/s]\n"
          ]
        },
        {
          "output_type": "stream",
          "name": "stdout",
          "text": [
            "Extracting ./MNIST_data/MNIST/raw/t10k-images-idx3-ubyte.gz to ./MNIST_data/MNIST/raw\n",
            "\n",
            "Downloading http://yann.lecun.com/exdb/mnist/t10k-labels-idx1-ubyte.gz\n",
            "Failed to download (trying next):\n",
            "<urlopen error [Errno 111] Connection refused>\n",
            "\n",
            "Downloading https://ossci-datasets.s3.amazonaws.com/mnist/t10k-labels-idx1-ubyte.gz\n",
            "Downloading https://ossci-datasets.s3.amazonaws.com/mnist/t10k-labels-idx1-ubyte.gz to ./MNIST_data/MNIST/raw/t10k-labels-idx1-ubyte.gz\n"
          ]
        },
        {
          "output_type": "stream",
          "name": "stderr",
          "text": [
            "100%|██████████| 4.54k/4.54k [00:00<00:00, 5.59MB/s]"
          ]
        },
        {
          "output_type": "stream",
          "name": "stdout",
          "text": [
            "Extracting ./MNIST_data/MNIST/raw/t10k-labels-idx1-ubyte.gz to ./MNIST_data/MNIST/raw\n",
            "\n"
          ]
        },
        {
          "output_type": "stream",
          "name": "stderr",
          "text": [
            "\n"
          ]
        }
      ]
    },
    {
      "cell_type": "code",
      "source": [
        "trainset"
      ],
      "metadata": {
        "colab": {
          "base_uri": "https://localhost:8080/"
        },
        "id": "f9QKQq4ngq3X",
        "outputId": "562b6fd6-7de4-4ba5-f0e7-63aa9beaea4d"
      },
      "execution_count": 5,
      "outputs": [
        {
          "output_type": "execute_result",
          "data": {
            "text/plain": [
              "Dataset MNIST\n",
              "    Number of datapoints: 60000\n",
              "    Root location: ./MNIST_data/\n",
              "    Split: Train\n",
              "    StandardTransform\n",
              "Transform: ToTensor()"
            ]
          },
          "metadata": {},
          "execution_count": 5
        }
      ]
    },
    {
      "cell_type": "code",
      "source": [
        "# Cria um buffer para os dados por parte\n",
        "\n",
        "trainloader = torch.utils.data.DataLoader(\n",
        "    trainset,\n",
        "    batch_size=64,\n",
        "    shuffle=True\n",
        ")\n"
      ],
      "metadata": {
        "id": "zmyrQQkGgtVd"
      },
      "execution_count": 6,
      "outputs": []
    },
    {
      "cell_type": "code",
      "source": [
        "trainloader"
      ],
      "metadata": {
        "colab": {
          "base_uri": "https://localhost:8080/"
        },
        "id": "A-bbVgTehEFm",
        "outputId": "7cf3565f-3a9e-43bc-80ee-963f0aadc1eb"
      },
      "execution_count": 7,
      "outputs": [
        {
          "output_type": "execute_result",
          "data": {
            "text/plain": [
              "<torch.utils.data.dataloader.DataLoader at 0x7c6cbafe6990>"
            ]
          },
          "metadata": {},
          "execution_count": 7
        }
      ]
    },
    {
      "cell_type": "code",
      "source": [
        "# Carrega a parte de validação do dataset\n",
        "valset = datasets.MNIST(\n",
        "    \"./MNIST_data/\",\n",
        "    download=True,\n",
        "    train=False,\n",
        "    transform=transfrom\n",
        ")"
      ],
      "metadata": {
        "id": "6a-HzFA1hFH1"
      },
      "execution_count": 8,
      "outputs": []
    },
    {
      "cell_type": "code",
      "source": [
        "valset"
      ],
      "metadata": {
        "colab": {
          "base_uri": "https://localhost:8080/"
        },
        "id": "Yj4Pa9W9he3W",
        "outputId": "e6b8e592-4609-4a93-a450-d7e581c03a92"
      },
      "execution_count": 9,
      "outputs": [
        {
          "output_type": "execute_result",
          "data": {
            "text/plain": [
              "Dataset MNIST\n",
              "    Number of datapoints: 10000\n",
              "    Root location: ./MNIST_data/\n",
              "    Split: Test\n",
              "    StandardTransform\n",
              "Transform: ToTensor()"
            ]
          },
          "metadata": {},
          "execution_count": 9
        }
      ]
    },
    {
      "cell_type": "code",
      "source": [
        "# Cria um buffer para pegar os dados validados por partes\n",
        "valloader = torch.utils.data.DataLoader(\n",
        "    valset,\n",
        "    batch_size=64,\n",
        "    shuffle=True\n",
        ")"
      ],
      "metadata": {
        "id": "Mtnn69Vahlns"
      },
      "execution_count": 10,
      "outputs": []
    },
    {
      "cell_type": "code",
      "source": [
        "valloader"
      ],
      "metadata": {
        "colab": {
          "base_uri": "https://localhost:8080/"
        },
        "id": "K3PYCTh_hv11",
        "outputId": "9d4a80cb-7e44-47ba-f7d8-b28c0ea2dcd7"
      },
      "execution_count": 11,
      "outputs": [
        {
          "output_type": "execute_result",
          "data": {
            "text/plain": [
              "<torch.utils.data.dataloader.DataLoader at 0x7c6cbb79e990>"
            ]
          },
          "metadata": {},
          "execution_count": 11
        }
      ]
    },
    {
      "cell_type": "code",
      "source": [
        "# Plotar a imagem em um gráfico para verificar com ela é retornada\n",
        "dataiter = iter(trainloader)\n",
        "\n",
        "images, labels = next(dataiter)\n",
        "\n",
        "\n",
        "\"\"\"\n",
        "Explicação da sintaxe abaixo:\n",
        "\n",
        "images[0]:\n",
        "  images é um lote (batch) de imagens retornado pelo DataLoader. Ele é um tensor do PyTorch.\n",
        "  images[0] acessa a primeira imagem dentro desse lote. Portanto, images[0] também é um tensor do PyTorch, representando uma única imagem.\n",
        "\n",
        ".numpy():\n",
        "  .numpy() é um método dos tensores do PyTorch que os converte para arrays NumPy. O Matplotlib (usado por plt.imshow) trabalha com arrays NumPy, não com tensores do PyTorch. Portanto, essa conversão é necessária para que o Matplotlib possa exibir a imagem.\n",
        "\n",
        ".squeeze():\n",
        "  -> .squeeze() remove dimensões unitárias (dimensões com tamanho 1) de um array. No contexto de imagens, isso é importante porque as imagens geralmente têm uma dimensão extra para o canal de cor, mesmo quando são em escala de cinza.\n",
        "  -> Por exemplo, uma imagem em escala de cinza 28x28 pode ter o formato (1, 28, 28), onde o '1' representa um único canal (escala de cinza). O squeeze() transformaria esse formato em (28, 28), que é o formato esperado pelo plt.imshow para imagens em escala de cinza. Se a imagem fosse colorida (RGB), o formato poderia ser (3, 28, 28) e o squeeze() não faria nenhuma alteração nesse caso, pois não há dimensões unitárias.\n",
        "\n",
        "plt.imshow(..., cmap=\"gray_r\"):\n",
        "  -> plt.imshow() é uma função do Matplotlib que exibe uma imagem.\n",
        "  -> O primeiro argumento é o array NumPy que representa a imagem.\n",
        "     cmap=\"gray_r\" define o mapa de cores (colormap) como \"gray_r\". \"gray_r\" significa \"gray reversed\", ou seja, tons mais claros representam valores menores e tons mais escuros representam valores maiores. Se você usasse apenas cmap=\"gray\", seria o contrário.\n",
        "\"\"\"\n",
        "\n",
        "plt.imshow(images[0].numpy().squeeze(), cmap=\"gray_r\")\n"
      ],
      "metadata": {
        "colab": {
          "base_uri": "https://localhost:8080/",
          "height": 447
        },
        "id": "O19bHWLNhw0s",
        "outputId": "bff77f82-f20c-4e0d-e867-2e7546420d79"
      },
      "execution_count": 24,
      "outputs": [
        {
          "output_type": "execute_result",
          "data": {
            "text/plain": [
              "<matplotlib.image.AxesImage at 0x7c6cb7c37a50>"
            ]
          },
          "metadata": {},
          "execution_count": 24
        },
        {
          "output_type": "display_data",
          "data": {
            "text/plain": [
              "<Figure size 640x480 with 1 Axes>"
            ],
            "image/png": "[encoded data removed]"
          },
          "metadata": {}
        }
      ]
    },
    {
      "cell_type": "code",
      "source": [
        "# Verificar as dimensões do tensor de cada imagem\n",
        "print(images[0].shape)"
      ],
      "metadata": {
        "colab": {
          "base_uri": "https://localhost:8080/"
        },
        "id": "VI9r-NYNjF2F",
        "outputId": "cd13dd63-2922-4370-cf2b-eb049e53056e"
      },
      "execution_count": 18,
      "outputs": [
        {
          "output_type": "stream",
          "name": "stdout",
          "text": [
            "torch.Size([1, 28, 28])\n"
          ]
        }
      ]
    },
    {
      "cell_type": "code",
      "source": [
        "\"\"\"\n",
        "Explicação da Classe e dos métodos presentes na mesma:\n",
        "\n",
        "1. class Modelo(nn.Module):\n",
        "-> Esta linha define uma nova classe chamada Modelo que herda de nn.Module. Em PyTorch, todas as redes neurais personalizadas devem herdar de nn.Module. Isso fornece funcionalidades essenciais para o treinamento e a inferência, como o rastreamento de parâmetros e o cálculo de gradientes.\n",
        "\n",
        "2. def __init__(self):\n",
        "-> Este é o construtor da classe. Ele é chamado quando você cria uma instância da classe Modelo. Aqui, você define as camadas da sua rede.\n",
        "\n",
        "3. super(Modelo, self).__init__()\n",
        "-> Esta linha é crucial. Ela chama o construtor da classe pai (nn.Module). É essencial para inicializar corretamente a classe base e garantir que a sua rede funcione corretamente.\n",
        "\n",
        "4. self.linear1 = nn.Linear(28*28, 128)\n",
        "-> Esta linha define a primeira camada linear (totalmente conectada) da sua rede.\n",
        "-> nn.Linear(input_features, output_features) cria uma camada linear.\n",
        "-> 28*28 é o número de neurônios na camada de entrada. Assumindo que você está trabalhando com imagens 28x28 (como no MNIST), você tem 784 pixels de entrada.\n",
        "-> 128 é o número de neurônios na camada de saída desta camada linear. Portanto, esta camada transforma um vetor de entrada de tamanho 784 em um vetor de tamanho 128.\n",
        "\n",
        "5. self.linear2 = nn.Linear(128, 64)\n",
        "-> Esta linha define a segunda camada linear.\n",
        "-> 128 é o número de neurônios na camada de entrada desta camada, correspondente à saída da self.linear1.\n",
        "-> 64 é o número de neurônios na camada de saída desta camada.\n",
        "\n",
        "6. self.linear3 = nn.Linear(64, 10)\n",
        "-> Esta linha define a terceira e última camada linear (camada de saída).\n",
        "-> 64 é o número de neurônios na camada de entrada.\n",
        "-> 10 é o número de neurônios na camada de saída. Assumindo um problema de classificação com 10 classes (como no MNIST, que tem dígitos de 0 a 9), você precisa de 10 neurônios na camada de saída, um para cada classe.\n",
        "\n",
        "7. def forward(self, x):\n",
        "->Este método define o fluxo dos dados através da rede. Ele recebe a entrada x e retorna a saída da rede.\n",
        "\n",
        "8. x = F.relu(self.linear1(x))\n",
        "-> Esta linha aplica a primeira camada linear (self.linear1) à entrada x e, em seguida, aplica a função de ativação ReLU (Rectified Linear Unit) ao resultado.\n",
        "-> self.linear1(x) executa a multiplicação da matriz de entrada x pelos pesos da camada self.linear1 e adiciona o bias.\n",
        "-> F.relu() aplica a função ReLU, que define os valores negativos como zero e mantém os valores positivos inalterados: f(x) = max(0, x).\n",
        "\n",
        "9. x = F.relu(self.linear2(x))\n",
        "-> Semelhante à linha anterior, esta linha aplica a segunda camada linear (self.linear2) seguida pela função de ativação ReLU.\n",
        "\n",
        "10. x = self.linear3(x)\n",
        "-> Aqui, a terceira camada linear (self.linear3) é aplicada. Não há uma função de ativação ReLU aqui. A saída desta camada será usada para calcular as probabilidades das classes.\n",
        "\n",
        "12. return F.log_softmax(x, dim=1)\n",
        "-> Esta linha aplica a função log_softmax à saída da última camada linear.\n",
        "-> F.log_softmax(x, dim=1) calcula o logaritmo da função softmax. O dim=1 especifica que o softmax deve ser calculado ao longo da dimensão das classes (a segunda dimensão, já que a primeira dimensão é o batch).\n",
        "-> O log_softmax é comumente usado em problemas de classificação com perda de entropia cruzada (Cross-Entropy Loss), pois é numericamente mais estável do que calcular o softmax separadamente e depois aplicar o logaritmo.\n",
        "Resumindo:\n",
        "\n",
        "  Este código define uma rede neural com três camadas lineares totalmente conectadas, com ativações ReLU entre as duas primeiras camadas lineares. A última camada aplica a função log_softmax para obter as probabilidades logarítmicas das classes. Esta arquitetura é comumente usada para tarefas de classificação, especialmente com o dataset MNIST.\n",
        "\n",
        "Em termos de fluxo de dados:\n",
        "\n",
        "-> A entrada x (uma imagem 28x28 achatada em um vetor de 784 elementos) passa pela primeira camada linear (self.linear1) e pela ativação ReLU.\n",
        "-> A saída desta etapa passa pela segunda camada linear (self.linear2) e por outra ativação ReLU.\n",
        "-> Finalmente, a saída passa pela terceira camada linear (self.linear3) e pela função log_softmax para produzir as probabilidades logarítmicas das 10 classes.\n",
        "\n",
        "\n",
        "\"\"\"\n",
        "\n",
        "\n",
        "\n",
        "\n",
        "# Rede neural da estrutura InceptionV3\n",
        "class Modelo(nn.Module):\n",
        "  def __init__(self):\n",
        "    super(Modelo, self).__init__()\n",
        "    self.linear1 = nn.Linear(28*28, 128) # Camada de entrada, no qual utiliza 784 neurônios que se ligam a 128\n",
        "    self.linear2 = nn.Linear(128, 64) # Camada interna 1, no qual se utilia 128 neurônios que se ligam a 64\n",
        "    self.linear3 = nn.Linear(64, 10) # Camada interna 2, no qual se utiliza 10 neurônios que se ligam a 10\n",
        "\n",
        "  def forward(self, x):\n",
        "    x = F.relu(self.linear1(x)) # Função de ativação da camada de entrada para a camada interna 1\n",
        "    x = F.relu(self.linear2(x)) # Função de ativação da camada interna 1 para a camada interna 2\n",
        "    x = self.linear3(x) # Função de ativação da camada interna 2 para a camada de saída, nesse caso f(x) = x\n",
        "    return F.log_softmax(x, dim=1) # Dados utilizados para calcular a perda"
      ],
      "metadata": {
        "id": "lfizGwVNk-7R"
      },
      "execution_count": 34,
      "outputs": []
    },
    {
      "cell_type": "code",
      "source": [
        "\"\"\"\n",
        "Explicação da função abaixo:\n",
        "\n",
        "1. def treino(modelo, trainloader, device):\n",
        "-> Esta linha define uma função chamada treino que recebe três argumentos:\n",
        "-> modelo: O modelo da rede neural a ser treinado.\n",
        "-> trainloader: O DataLoader que fornece os dados de treinamento em lotes (batches).\n",
        "-> device: O dispositivo a ser usado para treinamento (CPU ou GPU).\n",
        "\n",
        "2. otimizador = optim.SGD(modelo.parameters(), lr=0.01, momentum=0.5)\n",
        "-> Esta linha define o otimizador. O otimizador é responsável por atualizar os pesos do modelo durante o treinamento.\n",
        "-> optim.SGD: Usa o Stochastic Gradient Descent (SGD) como otimizador. SGD é um algoritmo iterativo para otimizar uma função diferenciável.\n",
        "-> modelo.parameters(): Retorna um iterador sobre todos os parâmetros treináveis do modelo. O otimizador precisa saber quais parâmetros atualizar.\n",
        "-> lr=0.01: Define a taxa de aprendizado (learning rate) como 0.01. A taxa de aprendizado controla o tamanho do passo que o otimizador dá na direção do mínimo da função de perda.\n",
        "-> momentum=0.5: Define o momentum como 0.5. Momentum ajuda o otimizador a superar mínimos locais e acelera a convergência em direções relevantes.\n",
        "\n",
        "3. inicio = time()\n",
        "-> Esta linha inicia um timer para medir o tempo de treinamento.\n",
        "\n",
        "4. criterio = nn.NLLLoss()\n",
        "-> Define a função de perda (loss function) como Negative Log Likelihood Loss (nn.NLLLoss). Esta função de perda é comumente usada em problemas de classificação multiclasse quando a saída do modelo é um log-softmax (como no seu caso, com F.log_softmax).\n",
        "\n",
        "5. EPOCH = 10\n",
        "-> Define o número de épocas (epochs) como 10. Uma época é uma passagem completa por todo o conjunto de dados de treinamento.\n",
        "\n",
        "6. modelo.train()\n",
        "-> Esta linha coloca o modelo no modo de treinamento. Isso é importante porque algumas camadas, como Dropout e Batch Normalization, se comportam de maneira diferente durante o treinamento e a avaliação.\n",
        "\n",
        "7. for epoch in range(EPOCH):\n",
        "-> Inicia o loop principal de treinamento, iterando sobre as épocas.\n",
        "\n",
        "8. perda_acumulada = 0\n",
        "-> Inicializa uma variável para armazenar a perda acumulada durante cada época.\n",
        "\n",
        "9. for imagens, etiquetas in trainloader:\n",
        "-> Este é o loop interno que itera sobre os lotes (batches) de dados fornecidos pelo trainloader.\n",
        "-> imagens: Um lote de imagens de entrada.\n",
        "-> etiquetas: As etiquetas (labels) correspondentes às imagens.\n",
        "\n",
        "10. imagens = imagens.view(imagens.shape[0] , -1)\n",
        "-> Esta linha reformata as imagens.\n",
        "-> imagens.view(imagens.shape[0], -1): Achata cada imagem em um vetor. imagens.shape[0] mantém o tamanho do lote (batch size), e -1 calcula automaticamente o tamanho do vetor achatado (28*28 = 784 no caso de imagens 28x28). Isso é necessário porque as camadas lineares (nn.Linear) esperam entradas unidimensionais.\n",
        "\n",
        "11. otimizador.zero_grad()\n",
        "-> Zera os gradientes do otimizador. Isso é crucial porque os gradientes são acumulados a cada chamada de backward(). Você precisa zerá-los antes de calcular os gradientes para o próximo lote.\n",
        "\n",
        "12. output = modelo(imagens.to(device))\n",
        "-> Passa as imagens pelo modelo.\n",
        "-> imagens.to(device): Move as imagens para o dispositivo especificado (CPU ou GPU).\n",
        "-> modelo(imagens.to(device)): Executa o método forward do modelo, calculando a saída da rede para as imagens de entrada.\n",
        "\n",
        "13. perda_instantanea = criterio(output, etiquetas.to(device))\n",
        "-> Calcula a perda (loss) para o lote atual.\n",
        "-> etiquetas.to(device): Move as etiquetas para o mesmo dispositivo que as imagens.\n",
        "-> criterio(output, etiquetas.to(device)): Calcula a perda usando a função de perda definida anteriormente (nn.NLLLoss).\n",
        "\n",
        "14. perda_instantanea.backward()\n",
        "-> Executa a retropropagação (backpropagation). Este passo calcula os gradientes da perda em relação aos parâmetros do modelo.\n",
        "\n",
        "15. otimizador.step()\n",
        "-> Atualiza os pesos do modelo usando os gradientes calculados.\n",
        "\n",
        "16. perda_acumulada += perda_instantanea.item()\n",
        "-> Adiciona a perda do lote atual à perda acumulada da época. .item() extrai o valor numérico da perda (que é um tensor de um único elemento).\n",
        "\n",
        "\"\"\"\n",
        "\n",
        "\n",
        "\n",
        "\n",
        "def treino(modelo, trainloader, device):\n",
        "  # Otimizador do modelo\n",
        "  otimizador = optim.SGD(\n",
        "      modelo.parameters(),\n",
        "      lr=0.01,\n",
        "      momentum=0.5\n",
        "  )\n",
        "\n",
        "  inicio = time() # Timer para sabermos quanto tempo levou o treino\n",
        "\n",
        "  criterio = nn.NLLLoss() # Definindo o critério para calcular a perda\n",
        "\n",
        "  EPOCH = 10 # Numero de epochs que o algoritmo rodará\n",
        "\n",
        "  modelo.train() # Ativando o modo de treinamento do modelo\n",
        "\n",
        "  # Looping para o treinamento das Epochs\n",
        "  for epoch in range(EPOCH):\n",
        "\n",
        "    perda_acumulada = 0 # Variável para calcular a perda acumulada\n",
        "\n",
        "    for imagens, etiquetas in trainloader:\n",
        "\n",
        "      imagens = imagens.view(imagens.shape[0] , -1) # Ajuste da imagem para vetores de 28*28\n",
        "      otimizador.zero_grad() # Zera os gradientes\n",
        "\n",
        "      output = modelo(imagens.to(device)) # Colocando os daados no modelo\n",
        "\n",
        "      perda_instantanea = criterio(output, etiquetas.to(device)) # Calcula a perda da epoch em questão\n",
        "\n",
        "      perda_instantanea.backward() # Back Propagation a partir da perda\n",
        "\n",
        "      otimizador.step() # Atualiza os pesos e a bias\n",
        "\n",
        "      perda_acumulada += perda_instantanea.item() # Adiciona a perda instantânea à perda acumulada\n",
        "\n",
        "    else:\n",
        "      print(\"Epoch {} - Perda Resultante: {}\".format(epoch+1, perda_acumulada/len(trainloader)))\n",
        "  print(\"\\nTempo de treino (em minutos) = \", (time()-inicio)/60)"
      ],
      "metadata": {
        "id": "Xej5yCHLoxDW"
      },
      "execution_count": 25,
      "outputs": []
    },
    {
      "cell_type": "code",
      "source": [
        "\n",
        "# Comparar uma imagem que não foi treinada com uma imagem que foi treinada, para validar se a Rede Neural aprendeu a imagem ou não\n",
        "\n",
        "def validacao(modelo, valloader, device):\n",
        "  conta_correta, conta_todas = 0, 0\n",
        "\n",
        "  for imagens, etiquetas in valloader:\n",
        "    for i in range(len(etiquetas)):\n",
        "      img = imagens[i].view(1, 784)\n",
        "\n",
        "      # Desativar o autograd para acelerar a validação, Grafos computacionais tem um custo alto de processamento\n",
        "      with torch.no_grad():\n",
        "        logps = modelo(img.to(device)) # Output do modelo em escala logaritmica\n",
        "\n",
        "      ps = torch.exp(logps) # Converte o output do modelo em escala linear\n",
        "\n",
        "      probab = list(ps.cpu().numpy()[0])\n",
        "\n",
        "      etiqueta_pred = probab.index(max(probab)) # Conveste o tensor em um numero, no caso, o numero que o modelo previu\n",
        "\n",
        "      etiqueta_certa = etiquetas.numpy()[i]\n",
        "\n",
        "      if(etiqueta_certa == etiqueta_pred): # Compara a previsão com o valor correto\n",
        "        conta_correta += 1\n",
        "\n",
        "      conta_todas += 1\n",
        "\n",
        "  print(\"Total de imagens testadas =\", conta_todas)\n",
        "  print(\"\\nPrecisão do modelo = {}%\".format(conta_correta*100/conta_todas))\n",
        "#"
      ],
      "metadata": {
        "id": "qywfLIBytEcq"
      },
      "execution_count": 22,
      "outputs": []
    },
    {
      "cell_type": "code",
      "source": [
        "device = torch.device(\"cuda\" if torch.cuda.is_available() else \"cpu\") # Definindo o dispositivo, ele valida se a placa tem cuda, caso não usar o CPU (Apenas a NVidea possui suporte para o CUDA)\n",
        "\n",
        "modelo = Modelo().to(device)"
      ],
      "metadata": {
        "id": "2_8MhZMC65S4"
      },
      "execution_count": 35,
      "outputs": []
    },
    {
      "cell_type": "code",
      "source": [
        "treino(modelo, trainloader, device)"
      ],
      "metadata": {
        "colab": {
          "base_uri": "https://localhost:8080/"
        },
        "id": "fga0ivJK7u51",
        "outputId": "d6c04dc7-0751-4e4f-d0ab-72c05b6b38c7"
      },
      "execution_count": 36,
      "outputs": [
        {
          "output_type": "stream",
          "name": "stdout",
          "text": [
            "Epoch 1 - Perda Resultante: 1.1671097186773316\n",
            "Epoch 2 - Perda Resultante: 0.37850742369318313\n",
            "Epoch 3 - Perda Resultante: 0.3140687381646145\n",
            "Epoch 4 - Perda Resultante: 0.27428134183671427\n",
            "Epoch 5 - Perda Resultante: 0.24337569487565108\n",
            "Epoch 6 - Perda Resultante: 0.21640971302986145\n",
            "Epoch 7 - Perda Resultante: 0.1944792133563363\n",
            "Epoch 8 - Perda Resultante: 0.17562134657650869\n",
            "Epoch 9 - Perda Resultante: 0.15937194523256598\n",
            "Epoch 10 - Perda Resultante: 0.1459749733099837\n",
            "\n",
            "Tempo de treino (em minutos) =  1.4327752510706584\n"
          ]
        }
      ]
    },
    {
      "cell_type": "code",
      "source": [
        "validacao(modelo, valloader, device)"
      ],
      "metadata": {
        "colab": {
          "base_uri": "https://localhost:8080/"
        },
        "id": "7nnN_9-i9ZfA",
        "outputId": "e62dfaff-d296-4e7a-f941-fbc7bdaa3b62"
      },
      "execution_count": 37,
      "outputs": [
        {
          "output_type": "stream",
          "name": "stdout",
          "text": [
            "Total de imagens testadas = 10000\n",
            "\n",
            "Precisão do modelo = 95.87%\n"
          ]
        }
      ]
    },
    {
      "cell_type": "code",
      "source": [],
      "metadata": {
        "id": "sMsmp5HT9Rmq"
      },
      "execution_count": null,
      "outputs": []
    }
  ]
}