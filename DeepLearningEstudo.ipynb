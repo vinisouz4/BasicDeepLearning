{
  "nbformat": 4,
  "nbformat_minor": 0,
  "metadata": {
    "colab": {
      "provenance": [],
      "authorship_tag": "ABX9TyNS+Gnhva82YSbGaR1H7OA3",
      "include_colab_link": true
    },
    "kernelspec": {
      "name": "python3",
      "display_name": "Python 3"
    },
    "language_info": {
      "name": "python"
    }
  },
  "cells": [
    {
      "cell_type": "markdown",
      "metadata": {
        "id": "view-in-github",
        "colab_type": "text"
      },
      "source": [
        "<a href=\"https://colab.research.google.com/github/vinisouz4/BasicDeepLearning/blob/main/DeepLearningEstudo.ipynb\" target=\"_parent\"><img src=\"https://colab.research.google.com/assets/colab-badge.svg\" alt=\"Open In Colab\"/></a>"
      ]
    },
    {
      "cell_type": "markdown",
      "source": [
        "# Constantes"
      ],
      "metadata": {
        "id": "1czM55Dp6Su5"
      }
    },
    {
      "cell_type": "code",
      "execution_count": 54,
      "metadata": {
        "id": "X6nhjui16IRm"
      },
      "outputs": [],
      "source": [
        "import tensorflow as tf"
      ]
    },
    {
      "cell_type": "code",
      "source": [
        "# Criando as constantes\n",
        "valor1 = tf.constant(2)\n",
        "valor2 = tf.constant(3)"
      ],
      "metadata": {
        "id": "HPEJQXUM6RkP"
      },
      "execution_count": 55,
      "outputs": []
    },
    {
      "cell_type": "code",
      "source": [
        "# printando os valores das constantes\n",
        "print(valor1)\n",
        "print(valor2)\n",
        "\n",
        "# Shape => é o tamanho ou o formato da constante, e está vazio porque é numero escalar"
      ],
      "metadata": {
        "colab": {
          "base_uri": "https://localhost:8080/"
        },
        "id": "E1uoD3S960vq",
        "outputId": "b565bd27-53fa-4d20-ae2d-1bbbed939d2e"
      },
      "execution_count": 56,
      "outputs": [
        {
          "output_type": "stream",
          "name": "stdout",
          "text": [
            "tf.Tensor(2, shape=(), dtype=int32)\n",
            "tf.Tensor(3, shape=(), dtype=int32)\n"
          ]
        }
      ]
    },
    {
      "cell_type": "code",
      "source": [
        "# Somando os valores das constantes\n",
        "# Aqui ele gera um grafo\n",
        "soma = valor1 + valor2"
      ],
      "metadata": {
        "id": "UjVfYsrS7DhY"
      },
      "execution_count": 57,
      "outputs": []
    },
    {
      "cell_type": "code",
      "source": [
        "soma"
      ],
      "metadata": {
        "colab": {
          "base_uri": "https://localhost:8080/"
        },
        "id": "x1Dcj6VM7YUY",
        "outputId": "2466a586-841d-4dff-d667-19cacd733107"
      },
      "execution_count": 58,
      "outputs": [
        {
          "output_type": "execute_result",
          "data": {
            "text/plain": [
              "<tf.Tensor: shape=(), dtype=int32, numpy=5>"
            ]
          },
          "metadata": {},
          "execution_count": 58
        }
      ]
    },
    {
      "cell_type": "code",
      "source": [
        "texto1 = tf.constant('Texto 1 ')\n",
        "texto2 = tf.constant('Texto 2')"
      ],
      "metadata": {
        "id": "TEN_69hoA6ay"
      },
      "execution_count": 59,
      "outputs": []
    },
    {
      "cell_type": "code",
      "source": [
        "texto1"
      ],
      "metadata": {
        "colab": {
          "base_uri": "https://localhost:8080/"
        },
        "id": "T2arD5P-BZUK",
        "outputId": "0919e8c6-6d37-458f-bc15-ffb66119b248"
      },
      "execution_count": 60,
      "outputs": [
        {
          "output_type": "execute_result",
          "data": {
            "text/plain": [
              "<tf.Tensor: shape=(), dtype=string, numpy=b'Texto 1 '>"
            ]
          },
          "metadata": {},
          "execution_count": 60
        }
      ]
    },
    {
      "cell_type": "code",
      "source": [
        "# Concatenar duas strings com o tensorflow\n",
        "# b -> bites literal\n",
        "concat = texto1 + texto2\n",
        "concat"
      ],
      "metadata": {
        "colab": {
          "base_uri": "https://localhost:8080/"
        },
        "id": "LwOwyLAlBbpV",
        "outputId": "38a6e644-2ce4-4612-91d0-d9ea9933ee2b"
      },
      "execution_count": 61,
      "outputs": [
        {
          "output_type": "execute_result",
          "data": {
            "text/plain": [
              "<tf.Tensor: shape=(), dtype=string, numpy=b'Texto 1 Texto 2'>"
            ]
          },
          "metadata": {},
          "execution_count": 61
        }
      ]
    },
    {
      "cell_type": "markdown",
      "source": [
        "# Variaveis"
      ],
      "metadata": {
        "id": "30yPH6BwCedq"
      }
    },
    {
      "cell_type": "code",
      "source": [
        "\n",
        "# Sempre colocar o parametro *name* o nome da variavel para facilitar em projetos maiores\n",
        "valor1 = tf.constant(15, name='valor1')\n",
        "print(valor1)"
      ],
      "metadata": {
        "colab": {
          "base_uri": "https://localhost:8080/"
        },
        "id": "clXBmSOtDLSm",
        "outputId": "5b037175-f72a-41d4-becd-a7585f98c3c4"
      },
      "execution_count": 62,
      "outputs": [
        {
          "output_type": "stream",
          "name": "stdout",
          "text": [
            "tf.Tensor(15, shape=(), dtype=int32)\n"
          ]
        }
      ]
    },
    {
      "cell_type": "code",
      "source": [
        "# Definindo variaveis no TensorFlow, no qual ele define como será o grafo, já com a criação de sessão\n",
        "soma = tf.Variable(valor1 + 5, name=\"valor1\")\n",
        "soma"
      ],
      "metadata": {
        "colab": {
          "base_uri": "https://localhost:8080/"
        },
        "id": "4xBqJjDuDt0d",
        "outputId": "560ddc65-1e77-42db-a86f-e24bd70ec839"
      },
      "execution_count": 63,
      "outputs": [
        {
          "output_type": "execute_result",
          "data": {
            "text/plain": [
              "<tf.Variable 'valor1:0' shape=() dtype=int32, numpy=20>"
            ]
          },
          "metadata": {},
          "execution_count": 63
        }
      ]
    },
    {
      "cell_type": "code",
      "source": [
        "# No retorno é mostrado que tem uma lista (vetor), no parametro shape me mostra que temos 3 itens dentro do meu vetor\n",
        "vetor = tf.constant([5, 10, 15], name='vetor')\n",
        "vetor"
      ],
      "metadata": {
        "colab": {
          "base_uri": "https://localhost:8080/"
        },
        "id": "Ke6S_HeAE147",
        "outputId": "c82e86a1-1a97-4d67-d2b4-e5e80954a7f0"
      },
      "execution_count": 64,
      "outputs": [
        {
          "output_type": "execute_result",
          "data": {
            "text/plain": [
              "<tf.Tensor: shape=(3,), dtype=int32, numpy=array([ 5, 10, 15], dtype=int32)>"
            ]
          },
          "metadata": {},
          "execution_count": 64
        }
      ]
    },
    {
      "cell_type": "code",
      "source": [
        "# Criar uma soma no qual pegue todos os meus valores do vetor e some por 5\n",
        "soma = tf.Variable(vetor + 5, name='soma')\n",
        "soma"
      ],
      "metadata": {
        "colab": {
          "base_uri": "https://localhost:8080/"
        },
        "id": "QitowlsMFwm3",
        "outputId": "75410767-f70c-4614-c7c4-e32cd7fe0320"
      },
      "execution_count": 65,
      "outputs": [
        {
          "output_type": "execute_result",
          "data": {
            "text/plain": [
              "<tf.Variable 'soma:0' shape=(3,) dtype=int32, numpy=array([10, 15, 20], dtype=int32)>"
            ]
          },
          "metadata": {},
          "execution_count": 65
        }
      ]
    },
    {
      "cell_type": "code",
      "source": [
        "valor = tf.Variable(0, name='valor')\n",
        "\n",
        "# Looping no qual ele pega um range e incrementa na minha variabel\n",
        "for i in range(5):\n",
        "  valor = valor + 1\n",
        "  print(valor)"
      ],
      "metadata": {
        "colab": {
          "base_uri": "https://localhost:8080/"
        },
        "id": "7IcI6nYkGPpb",
        "outputId": "89868571-3c14-4848-8038-cb4833a0005c"
      },
      "execution_count": 66,
      "outputs": [
        {
          "output_type": "stream",
          "name": "stdout",
          "text": [
            "tf.Tensor(1, shape=(), dtype=int32)\n",
            "tf.Tensor(2, shape=(), dtype=int32)\n",
            "tf.Tensor(3, shape=(), dtype=int32)\n",
            "tf.Tensor(4, shape=(), dtype=int32)\n",
            "tf.Tensor(5, shape=(), dtype=int32)\n"
          ]
        }
      ]
    },
    {
      "cell_type": "markdown",
      "source": [
        "# Adição de Vetores e Matrizes"
      ],
      "metadata": {
        "id": "W9nLEtqOHfUs"
      }
    },
    {
      "cell_type": "code",
      "source": [
        "a = tf.constant([9,8,7], name='a')\n",
        "b = tf.constant([1,2,3], name='b')"
      ],
      "metadata": {
        "id": "C72cYEdMHFRx"
      },
      "execution_count": 67,
      "outputs": []
    },
    {
      "cell_type": "code",
      "source": [
        "# Vou fazer a soma dos itens da minha lista a com a minha lista b\n",
        "soma = a + b\n",
        "soma"
      ],
      "metadata": {
        "colab": {
          "base_uri": "https://localhost:8080/"
        },
        "id": "IisuHU86Hr19",
        "outputId": "4a4e7fa2-ce3c-49d2-db84-b03351349faa"
      },
      "execution_count": 68,
      "outputs": [
        {
          "output_type": "execute_result",
          "data": {
            "text/plain": [
              "<tf.Tensor: shape=(3,), dtype=int32, numpy=array([10, 10, 10], dtype=int32)>"
            ]
          },
          "metadata": {},
          "execution_count": 68
        }
      ]
    },
    {
      "cell_type": "code",
      "source": [
        "# No parametro shape ele me mostra que temos duas colunas (duas listas) com 3 itens dentro delas\n",
        "a1 = tf.constant([[1,2,3], [4,5,6]], name = 'a1')\n",
        "a1"
      ],
      "metadata": {
        "colab": {
          "base_uri": "https://localhost:8080/"
        },
        "id": "WNXmq4enHylx",
        "outputId": "d9a9630b-e12f-4dcd-aafc-006f6cc50817"
      },
      "execution_count": 69,
      "outputs": [
        {
          "output_type": "execute_result",
          "data": {
            "text/plain": [
              "<tf.Tensor: shape=(2, 3), dtype=int32, numpy=\n",
              "array([[1, 2, 3],\n",
              "       [4, 5, 6]], dtype=int32)>"
            ]
          },
          "metadata": {},
          "execution_count": 69
        }
      ]
    },
    {
      "cell_type": "code",
      "source": [
        "a1.shape"
      ],
      "metadata": {
        "colab": {
          "base_uri": "https://localhost:8080/"
        },
        "id": "FEnz7RgaIhYu",
        "outputId": "c64087ee-9a81-4f79-9232-454efdd9e38f"
      },
      "execution_count": 70,
      "outputs": [
        {
          "output_type": "execute_result",
          "data": {
            "text/plain": [
              "TensorShape([2, 3])"
            ]
          },
          "metadata": {},
          "execution_count": 70
        }
      ]
    },
    {
      "cell_type": "code",
      "source": [
        "b1 = tf.constant([[1,2,3], [4,5,6]], name=\"b1\")\n",
        "b1"
      ],
      "metadata": {
        "colab": {
          "base_uri": "https://localhost:8080/"
        },
        "id": "S7rvzwUPIrOA",
        "outputId": "823015c4-3138-4a40-afb2-cc50152cda6f"
      },
      "execution_count": 71,
      "outputs": [
        {
          "output_type": "execute_result",
          "data": {
            "text/plain": [
              "<tf.Tensor: shape=(2, 3), dtype=int32, numpy=\n",
              "array([[1, 2, 3],\n",
              "       [4, 5, 6]], dtype=int32)>"
            ]
          },
          "metadata": {},
          "execution_count": 71
        }
      ]
    },
    {
      "cell_type": "code",
      "source": [
        "# O parametro .add é uma soma usando as prioridades do TensorFlow\n",
        "soma = tf.add(a1, b1)\n",
        "soma"
      ],
      "metadata": {
        "colab": {
          "base_uri": "https://localhost:8080/"
        },
        "id": "6GEaytgzI0--",
        "outputId": "dd8e3317-c1ca-41eb-dec0-10b14160411f"
      },
      "execution_count": 72,
      "outputs": [
        {
          "output_type": "execute_result",
          "data": {
            "text/plain": [
              "<tf.Tensor: shape=(2, 3), dtype=int32, numpy=\n",
              "array([[ 2,  4,  6],\n",
              "       [ 8, 10, 12]], dtype=int32)>"
            ]
          },
          "metadata": {},
          "execution_count": 72
        }
      ]
    },
    {
      "cell_type": "code",
      "source": [
        "soma.numpy()"
      ],
      "metadata": {
        "colab": {
          "base_uri": "https://localhost:8080/"
        },
        "id": "anUvTx1VI9HW",
        "outputId": "98506608-4373-4d2f-90ca-7dd625e87dac"
      },
      "execution_count": 73,
      "outputs": [
        {
          "output_type": "execute_result",
          "data": {
            "text/plain": [
              "array([[ 2,  4,  6],\n",
              "       [ 8, 10, 12]], dtype=int32)"
            ]
          },
          "metadata": {},
          "execution_count": 73
        }
      ]
    },
    {
      "cell_type": "code",
      "source": [
        "a2 = tf.constant([[1,2,3], [4,5,6]], name='a2')\n",
        "b2 = tf.constant([[1], [2]], name='b2')\n",
        "soma = tf.add(a2, b2)\n",
        "soma\n",
        "\n",
        "# with tf.compat.v1.Session() as sess:\n",
        "#   print(sess.run(soma))"
      ],
      "metadata": {
        "colab": {
          "base_uri": "https://localhost:8080/"
        },
        "id": "r3sp_o1vJjHB",
        "outputId": "3638cbf9-52a0-40a7-c773-0aa5d6f6259f"
      },
      "execution_count": 78,
      "outputs": [
        {
          "output_type": "execute_result",
          "data": {
            "text/plain": [
              "<tf.Tensor: shape=(2, 3), dtype=int32, numpy=\n",
              "array([[2, 3, 4],\n",
              "       [6, 7, 8]], dtype=int32)>"
            ]
          },
          "metadata": {},
          "execution_count": 78
        }
      ]
    },
    {
      "cell_type": "markdown",
      "source": [
        "# Multiplicações de Matrizes"
      ],
      "metadata": {
        "id": "iu3wtyTzKwVh"
      }
    },
    {
      "cell_type": "code",
      "source": [
        "a = tf.constant([[1,2], [3,4]], name='a')\n",
        "b = tf.constant([[-1,3], [4,2]], name='b')"
      ],
      "metadata": {
        "id": "Pd9cdyPsKXVm"
      },
      "execution_count": 79,
      "outputs": []
    },
    {
      "cell_type": "code",
      "source": [
        "# Realizando a multiplicação entre matrizes entre A e B\n",
        "multiplicacao = tf.matmul(a,b)\n",
        "multiplicacao"
      ],
      "metadata": {
        "colab": {
          "base_uri": "https://localhost:8080/"
        },
        "id": "eEAkUN4ULBT_",
        "outputId": "31370172-3669-48d9-e75b-0a0e66361d8d"
      },
      "execution_count": 82,
      "outputs": [
        {
          "output_type": "execute_result",
          "data": {
            "text/plain": [
              "<tf.Tensor: shape=(2, 2), dtype=int32, numpy=\n",
              "array([[ 7,  7],\n",
              "       [13, 17]], dtype=int32)>"
            ]
          },
          "metadata": {},
          "execution_count": 82
        }
      ]
    },
    {
      "cell_type": "code",
      "source": [
        "multiplicacao2 = tf.matmul(b,a)\n",
        "multiplicacao2"
      ],
      "metadata": {
        "colab": {
          "base_uri": "https://localhost:8080/"
        },
        "id": "Zxg4NaT4LOEt",
        "outputId": "e1577ec3-18cc-42c8-a3c2-7a7ae40b9d61"
      },
      "execution_count": 83,
      "outputs": [
        {
          "output_type": "execute_result",
          "data": {
            "text/plain": [
              "<tf.Tensor: shape=(2, 2), dtype=int32, numpy=\n",
              "array([[ 8, 10],\n",
              "       [10, 16]], dtype=int32)>"
            ]
          },
          "metadata": {},
          "execution_count": 83
        }
      ]
    },
    {
      "cell_type": "code",
      "source": [
        "a1 = tf.constant([[2,3], [0,1], [-1,4]])\n",
        "b1 = tf.constant([[1,2,3], [-2,0,4]])\n",
        "multiplicacao3 = tf.matmul(a1,b1)\n",
        "multiplicacao3"
      ],
      "metadata": {
        "colab": {
          "base_uri": "https://localhost:8080/"
        },
        "id": "jMRqeUf0Mtv4",
        "outputId": "2a77079a-a42a-45c2-8b89-629eff14f8c1"
      },
      "execution_count": 84,
      "outputs": [
        {
          "output_type": "execute_result",
          "data": {
            "text/plain": [
              "<tf.Tensor: shape=(3, 3), dtype=int32, numpy=\n",
              "array([[-4,  4, 18],\n",
              "       [-2,  0,  4],\n",
              "       [-9, -2, 13]], dtype=int32)>"
            ]
          },
          "metadata": {},
          "execution_count": 84
        }
      ]
    },
    {
      "cell_type": "code",
      "source": [],
      "metadata": {
        "id": "Qr5HoGjQNSQF"
      },
      "execution_count": null,
      "outputs": []
    }
  ]
}